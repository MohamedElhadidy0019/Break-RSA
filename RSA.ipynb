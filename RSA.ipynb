{
 "cells": [
  {
   "cell_type": "code",
   "execution_count": 4,
   "metadata": {},
   "outputs": [
    {
     "data": {
      "text/plain": [
       "134217728"
      ]
     },
     "execution_count": 4,
     "metadata": {},
     "output_type": "execute_result"
    }
   ],
   "source": [
    "import random\n",
    "import numpy as np\n",
    "import sympy as sp\n",
    "import math\n",
    "import matplotlib.pyplot as plt\n",
    "from Crypto.Util import number\n",
    "import time\n",
    "import sys, threading\n",
    "from math import sqrt,floor\n",
    "\n",
    "sys.setrecursionlimit(10**7)\n",
    "threading.stack_size(2**27)\n",
    "\n",
    "\n"
   ]
  },
  {
   "cell_type": "markdown",
   "metadata": {},
   "source": [
    "# Utility functions for RSA"
   ]
  },
  {
   "cell_type": "code",
   "execution_count": 5,
   "metadata": {},
   "outputs": [],
   "source": [
    "\n",
    "# is prime\n",
    "def is_prime(n):\n",
    "    if n == 2:\n",
    "        return True\n",
    "    if n % 2 == 0 or n <= 1:\n",
    "        return False\n",
    "    for i in range(3, int(n**0.5)+1, 2):\n",
    "        if n % i == 0:\n",
    "            return False\n",
    "    return True\n",
    "\n",
    "#powmod\n",
    "def powmod(a, b, c):\n",
    "    res = 1\n",
    "    while b > 0:\n",
    "        if b & 1:\n",
    "            res = (res * a) % c\n",
    "        b >>= 1\n",
    "        a = (a * a) % c\n",
    "    return res\n",
    "\n",
    "def ConvertToInt(message_str):\n",
    "  res = 0\n",
    "  for i in range(len(message_str)):\n",
    "    res = res * 256 + ord(message_str[i])\n",
    "  return res\n",
    "\n",
    "def ConvertToStr(n):\n",
    "    res = \"\"\n",
    "    while n > 0:\n",
    "        res += chr(n % 256)\n",
    "        n //= 256\n",
    "    return res[::-1]\n",
    "\n",
    "def GCD(a, b):\n",
    "  if b == 0:\n",
    "    return a\n",
    "  return GCD(b, a % b)\n",
    "\n",
    "def ExtendedEuclid(a, b):\n",
    "    if b == 0:\n",
    "        return (1, 0)\n",
    "    (x, y) = ExtendedEuclid(b, a % b)\n",
    "    k = a // b\n",
    "    return (y, x - k * y)\n",
    "\n",
    "# this is an R2L recursive implementation that works for large integers\n",
    "def PowMod(a, n, mod): \n",
    "    if n == 0:\n",
    "        return 1 % mod\n",
    "    elif n == 1:\n",
    "        return a % mod\n",
    "    else:\n",
    "        b = PowMod(a, n // 2, mod)\n",
    "        b = b * b % mod\n",
    "        if n % 2 == 0:\n",
    "          return b\n",
    "        else:\n",
    "          return b * a % mod\n",
    "\n",
    "def InvertModulo(a, n):\n",
    "    (b, x) = ExtendedEuclid(a, n)\n",
    "    if b < 0:\n",
    "        b = (b % n + n) % n # we don't want -ve integers\n",
    "    return b\n",
    "\n"
   ]
  },
  {
   "cell_type": "markdown",
   "metadata": {},
   "source": [
    "# REQ1) RSA functions"
   ]
  },
  {
   "cell_type": "code",
   "execution_count": 6,
   "metadata": {},
   "outputs": [],
   "source": [
    "\n",
    "def RSA(n_bits):\n",
    "    p = number.getPrime(n_bits // 2)\n",
    "    q = number.getPrime(n_bits // 2)\n",
    "    while p == q:\n",
    "        q = number.getPrime(n_bits // 2)\n",
    "    n=p*q\n",
    "    phi=(p-1)*(q-1)\n",
    "    e=random.randint(2,phi)\n",
    "    while sp.gcd(e,phi) != 1:\n",
    "        e=random.randint(2,phi) \n",
    "\n",
    "    d=sp.mod_inverse(e,phi)\n",
    "    pu=e,n\n",
    "    pr=d,n\n",
    "    return pu,pr\n",
    "\n",
    "def Encrypt(message,pu):\n",
    "    e,n=pu\n",
    "    return PowMod(message,e,n)\n",
    "\n",
    "def Decrypt(cipher,pr):\n",
    "    d,n=pr\n",
    "    return PowMod(cipher,d,n)\n",
    "    "
   ]
  },
  {
   "cell_type": "markdown",
   "metadata": {},
   "source": [
    "# REQ3) RSA     encryption time - nbits"
   ]
  },
  {
   "cell_type": "code",
   "execution_count": 12,
   "metadata": {},
   "outputs": [],
   "source": [
    "#key generation loop for req3\n",
    "\n",
    "message=\"A\"\n",
    "message_int=ConvertToInt(message)\n",
    "\n",
    "#make x linspace of range 1 to 1024\n",
    "low=8\n",
    "end=512\n",
    "x=np.linspace(low,end,end-low+1)\n",
    "#print(x[:200])\n",
    "y=[]\n",
    "\n",
    "keys=[]\n",
    "for i in x:\n",
    "    (e,n),(d,n)=RSA(int(i))\n",
    "    keys.append((e,n))\n",
    "    \n",
    "   \n"
   ]
  },
  {
   "cell_type": "code",
   "execution_count": 13,
   "metadata": {},
   "outputs": [],
   "source": [
    "counter=0\n",
    "\n",
    "for i in x:\n",
    "    elapsed_time=0\n",
    "    (e,n)=keys[counter]\n",
    "    for j in range(100):\n",
    "        \n",
    "        st=time.time()\n",
    "        cipher=Encrypt(message_int,(e,n))\n",
    "        et=time.time()\n",
    "        elapsed_time+=(et-st)\n",
    "    y.append(elapsed_time/100)\n",
    "    counter+=1\n",
    "    "
   ]
  },
  {
   "cell_type": "code",
   "execution_count": 14,
   "metadata": {},
   "outputs": [
    {
     "data": {
      "image/png": "[encoded data removed]",
      "text/plain": [
       "<Figure size 432x288 with 1 Axes>"
      ]
     },
     "metadata": {
      "needs_background": "light"
     },
     "output_type": "display_data"
    }
   ],
   "source": [
    "plt.plot(x, y)\n",
    "plt.show()\n"
   ]
  },
  {
   "cell_type": "markdown",
   "metadata": {},
   "source": [
    "# Req4"
   ]
  },
  {
   "cell_type": "code",
   "execution_count": 16,
   "metadata": {},
   "outputs": [
    {
     "name": "stdout",
     "output_type": "stream",
     "text": [
      "(2931590437, 3927891697)\n"
     ]
    }
   ],
   "source": [
    "#break RSA  for req 4\n",
    "def break_RSA(pu):\n",
    "    e,n=pu\n",
    "    #get p,q\n",
    "    for i in range(2,n//2):\n",
    "        if n%i==0:\n",
    "            p=i\n",
    "            q=n//i\n",
    "            break\n",
    "    \n",
    "\n",
    "\n",
    "    return p,q\n",
    "\n",
    "(pu,_)=RSA(32)\n",
    "print(pu)\n",
    "p,q=break_RSA(pu)\n",
    "assert(p*q==pu[1])"
   ]
  },
  {
   "cell_type": "code",
   "execution_count": 17,
   "metadata": {},
   "outputs": [
    {
     "name": "stdout",
     "output_type": "stream",
     "text": [
      "8 3.337860107421875e-06\n",
      "9 4.0531158447265625e-06\n",
      "10 3.337860107421875e-06\n",
      "11 3.814697265625e-06\n",
      "12 3.814697265625e-06\n",
      "13 4.5299530029296875e-06\n",
      "14 4.76837158203125e-06\n",
      "15 5.245208740234375e-06\n",
      "16 8.344650268554688e-06\n",
      "17 8.821487426757812e-06\n",
      "18 1.811981201171875e-05\n",
      "19 4.57763671875e-05\n",
      "20 0.00013828277587890625\n",
      "21 9.822845458984375e-05\n",
      "22 0.00012636184692382812\n",
      "23 0.00011420249938964844\n",
      "24 0.00022983551025390625\n",
      "25 0.0003154277801513672\n",
      "26 0.0005173683166503906\n",
      "27 0.00045609474182128906\n",
      "28 0.000982522964477539\n",
      "29 0.0007193088531494141\n",
      "30 0.001956462860107422\n",
      "31 0.0011477470397949219\n",
      "32 0.003834247589111328\n",
      "33 0.006189584732055664\n",
      "34 0.013425827026367188\n",
      "35 0.00796818733215332\n",
      "36 0.016926288604736328\n",
      "37 0.015858173370361328\n",
      "38 0.031211376190185547\n",
      "39 0.027388572692871094\n",
      "40 0.08679747581481934\n",
      "41 0.06129574775695801\n",
      "42 0.17203688621520996\n",
      "43 0.17397594451904297\n",
      "44 0.2745206356048584\n",
      "45 0.24065184593200684\n",
      "46 0.48012232780456543\n",
      "47 0.6139657497406006\n",
      "48 0.8552722930908203\n",
      "49 1.4974539279937744\n"
     ]
    }
   ],
   "source": [
    "#loop to generate keys\n",
    "keys_to_break=[]\n",
    "\n",
    "lower_range=8\n",
    "upper_range=50\n",
    "for i in range(lower_range,upper_range):\n",
    "    (e,n),(d,n)=RSA(int(i))\n",
    "    keys_to_break.append((e,n))\n",
    "\n",
    "counter=0\n",
    "time_array=[]\n",
    "for i in range(lower_range,upper_range):\n",
    "    time_taken=0\n",
    "    #for k in range(1,2):\n",
    "    st=time.time()\n",
    "    p,q=break_RSA(keys_to_break[counter])\n",
    "    et=time.time()\n",
    "    time_taken=(et-st)\n",
    "    time_array.append(time_taken)\n",
    "    print(i,time_taken)\n",
    "        \n",
    "    counter+=1\n",
    "\n",
    "\n",
    "    \n",
    " "
   ]
  },
  {
   "cell_type": "markdown",
   "metadata": {},
   "source": [
    "# req4 graph "
   ]
  },
  {
   "cell_type": "code",
   "execution_count": 19,
   "metadata": {},
   "outputs": [
    {
     "name": "stdout",
     "output_type": "stream",
     "text": [
      "(42,)\n",
      "(42,)\n"
     ]
    },
    {
     "data": {
      "image/png": "[encoded data removed]",
      "text/plain": [
       "<Figure size 432x288 with 1 Axes>"
      ]
     },
     "metadata": {
      "needs_background": "light"
     },
     "output_type": "display_data"
    }
   ],
   "source": [
    "\n",
    "x_break=np.linspace(lower_range,upper_range,upper_range-lower_range)\n",
    "print(x_break.shape)\n",
    "print(np.array(time_array).shape)\n",
    "\n",
    "plt.plot(x_break,time_array)\n",
    "plt.show()"
   ]
  },
  {
   "cell_type": "code",
   "execution_count": null,
   "metadata": {},
   "outputs": [],
   "source": []
  }
 ],
 "metadata": {
  "interpreter": {
   "hash": "79fdc8352940022464368746d67d12dbc9a3740708d0e5e01c2eafb24b507835"
  },
  "kernelspec": {
   "display_name": "Python 3.8.8 ('base')",
   "language": "python",
   "name": "python3"
  },
  "language_info": {
   "codemirror_mode": {
    "name": "ipython",
    "version": 3
   },
   "file_extension": ".py",
   "mimetype": "text/x-python",
   "name": "python",
   "nbconvert_exporter": "python",
   "pygments_lexer": "ipython3",
   "version": "3.8.10"
  },
  "orig_nbformat": 4
 },
 "nbformat": 4,
 "nbformat_minor": 2
}
