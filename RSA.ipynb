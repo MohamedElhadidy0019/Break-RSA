{
 "cells": [
  {
   "cell_type": "code",
   "execution_count": 105,
   "metadata": {},
   "outputs": [],
   "source": [
    "import random\n",
    "import numpy as np\n",
    "import sympy as sp\n",
    "import math\n",
    "from Crypto.Util import number\n",
    "import time\n",
    " \n"
   ]
  },
  {
   "cell_type": "code",
   "execution_count": 52,
   "metadata": {},
   "outputs": [
    {
     "name": "stdout",
     "output_type": "stream",
     "text": [
      "Number Theory\n"
     ]
    }
   ],
   "source": [
    "# is prime\n",
    "def is_prime(n):\n",
    "    if n == 2:\n",
    "        return True\n",
    "    if n % 2 == 0 or n <= 1:\n",
    "        return False\n",
    "    for i in range(3, int(n**0.5)+1, 2):\n",
    "        if n % i == 0:\n",
    "            return False\n",
    "    return True\n",
    "\n",
    "#powmod\n",
    "def powmod(a, b, c):\n",
    "    res = 1\n",
    "    while b > 0:\n",
    "        if b & 1:\n",
    "            res = (res * a) % c\n",
    "        b >>= 1\n",
    "        a = (a * a) % c\n",
    "    return res\n",
    "\n",
    "\n",
    "\n",
    "import sys, threading\n",
    "from math import sqrt,floor\n",
    "sys.setrecursionlimit(10**7)\n",
    "threading.stack_size(2**27)\n",
    "\n",
    "def ConvertToInt(message_str):\n",
    "  res = 0\n",
    "  for i in range(len(message_str)):\n",
    "    res = res * 256 + ord(message_str[i])\n",
    "  return res\n",
    "\n",
    "def ConvertToStr(n):\n",
    "    res = \"\"\n",
    "    while n > 0:\n",
    "        res += chr(n % 256)\n",
    "        n //= 256\n",
    "    return res[::-1]\n",
    "print(ConvertToStr(ConvertToInt('Number Theory')))\n",
    "\n",
    "def GCD(a, b):\n",
    "  if b == 0:\n",
    "    return a\n",
    "  return GCD(b, a % b)\n",
    "\n",
    "def ExtendedEuclid(a, b):\n",
    "    if b == 0:\n",
    "        return (1, 0)\n",
    "    (x, y) = ExtendedEuclid(b, a % b)\n",
    "    k = a // b\n",
    "    return (y, x - k * y)\n",
    "\n",
    "# this is an R2L recursive implementation that works for large integers\n",
    "def PowMod(a, n, mod): \n",
    "    if n == 0:\n",
    "        return 1 % mod\n",
    "    elif n == 1:\n",
    "        return a % mod\n",
    "    else:\n",
    "        b = PowMod(a, n // 2, mod)\n",
    "        b = b * b % mod\n",
    "        if n % 2 == 0:\n",
    "          return b\n",
    "        else:\n",
    "          return b * a % mod\n",
    "\n",
    "def InvertModulo(a, n):\n",
    "    (b, x) = ExtendedEuclid(a, n)\n",
    "    if b < 0:\n",
    "        b = (b % n + n) % n # we don't want -ve integers\n",
    "    return b\n",
    "\n"
   ]
  },
  {
   "cell_type": "code",
   "execution_count": 99,
   "metadata": {},
   "outputs": [],
   "source": [
    "\n",
    "temp=3\n",
    "#is temp prime\n",
    "\n",
    "\n",
    "def RSA(n_bits):\n",
    "    p = number.getPrime(n_bits // 2)\n",
    "    q = number.getPrime(n_bits // 2)\n",
    "    while p == q:\n",
    "        q = number.getPrime(n_bits // 2)\n",
    "\n",
    "    \n",
    "    # p = random.randint(np.power(2,(n_bits//2 -1)),np.power(2,(n_bits//2)))\n",
    "    # print(p)\n",
    "    # while not sp.isprime(p):\n",
    "    #     p = random.randint(np.power(2,(n_bits//2 -1)),np.power(2,(n_bits//2)))\n",
    "\n",
    "    # q=random.randint(np.power(2,(n_bits//2 -1)),np.power(2,(n_bits//2)))\n",
    "    # while not sp.isprime(q) or q==p:\n",
    "    #     q=random.randint(np.power(2,(n_bits//2 -1)),np.power(2,(n_bits//2)))\n",
    "\n",
    "\n",
    "    n=p*q\n",
    "    phi=(p-1)*(q-1)\n",
    "    e=random.randint(2,phi)\n",
    "    while sp.gcd(e,phi) != 1:\n",
    "        e=random.randint(2,phi) \n",
    "\n",
    "    d=sp.mod_inverse(e,phi)\n",
    "    pu=e,n\n",
    "    pr=d,n\n",
    "    return pu,pr\n",
    "\n",
    "def Encrypt(message,pu):\n",
    "    e,n=pu\n",
    "    return PowMod(message,e,n)\n",
    "\n",
    "def Decrypt(cipher,pr):\n",
    "    d,n=pr\n",
    "    return PowMod(cipher,d,n)"
   ]
  },
  {
   "cell_type": "code",
   "execution_count": 107,
   "metadata": {},
   "outputs": [
    {
     "name": "stdout",
     "output_type": "stream",
     "text": [
      "Encryption time: 0.0047605037689208984\n",
      "65349928792798747451420824101931828713120614685458679323052371741932518981941866365789169873121207722730037516706225030349907118438995540481305212759837140459693449029893425839368240581812335979021084449882731143050121055586775962479428375127674996043482736610408307059558599939561389935872620057195153149998\n",
      "A\n"
     ]
    }
   ],
   "source": [
    "(e,n),(d,n)=RSA(1024)\n",
    "#max is str length\n",
    "message=\"A\"\n",
    "messge_int=ConvertToInt(message)\n",
    "st = time.time()\n",
    "\n",
    "cipher=Encrypt(messge_int,(e,n))\n",
    "et=time.time()\n",
    "print(\"Encryption time:\",et-st)\n",
    "print(cipher)\n",
    "decrypted=Decrypt(cipher,(d,n))\n",
    "print(ConvertToStr(decrypted))\n",
    "\n",
    "\n",
    "\n"
   ]
  },
  {
   "cell_type": "code",
   "execution_count": 129,
   "metadata": {},
   "outputs": [
    {
     "name": "stdout",
     "output_type": "stream",
     "text": [
      "[  8.   9.  10.  11.  12.  13.  14.  15.  16.  17.  18.  19.  20.  21.\n",
      "  22.  23.  24.  25.  26.  27.  28.  29.  30.  31.  32.  33.  34.  35.\n",
      "  36.  37.  38.  39.  40.  41.  42.  43.  44.  45.  46.  47.  48.  49.\n",
      "  50.  51.  52.  53.  54.  55.  56.  57.  58.  59.  60.  61.  62.  63.\n",
      "  64.  65.  66.  67.  68.  69.  70.  71.  72.  73.  74.  75.  76.  77.\n",
      "  78.  79.  80.  81.  82.  83.  84.  85.  86.  87.  88.  89.  90.  91.\n",
      "  92.  93.  94.  95.  96.  97.  98.  99. 100. 101. 102. 103. 104. 105.\n",
      " 106. 107. 108. 109. 110. 111. 112. 113. 114. 115. 116. 117. 118. 119.\n",
      " 120. 121. 122. 123. 124. 125. 126. 127. 128. 129. 130. 131. 132. 133.\n",
      " 134. 135. 136. 137. 138. 139. 140. 141. 142. 143. 144. 145. 146. 147.\n",
      " 148. 149. 150. 151. 152. 153. 154. 155. 156. 157. 158. 159. 160. 161.\n",
      " 162. 163. 164. 165. 166. 167. 168. 169. 170. 171. 172. 173. 174. 175.\n",
      " 176. 177. 178. 179. 180. 181. 182. 183. 184. 185. 186. 187. 188. 189.\n",
      " 190. 191. 192. 193. 194. 195. 196. 197. 198. 199. 200. 201. 202. 203.\n",
      " 204. 205. 206. 207.]\n"
     ]
    }
   ],
   "source": [
    "message=\"A\"\n",
    "message_int=ConvertToInt(message)\n",
    "\n",
    "#make x linspace of range 1 to 1024\n",
    "low=8\n",
    "end=512\n",
    "x=np.linspace(low,end,end-low+1)\n",
    "print(x[:200])\n",
    "y=[]\n",
    "\n",
    "keys=[]\n",
    "for i in x:\n",
    "    (e,n),(d,n)=RSA(int(i))\n",
    "    keys.append((e,n))\n",
    "    \n",
    "   \n"
   ]
  },
  {
   "cell_type": "code",
   "execution_count": 130,
   "metadata": {},
   "outputs": [],
   "source": [
    "counter=0\n",
    "\n",
    "for i in x:\n",
    "    elapsed_time=0\n",
    "    (e,n)=keys[counter]\n",
    "    for j in range(100):\n",
    "        \n",
    "        st=time.time()\n",
    "        cipher=Encrypt(message_int,(e,n))\n",
    "        et=time.time()\n",
    "        elapsed_time+=(et-st)\n",
    "    y.append(elapsed_time/100)\n",
    "    counter+=1\n",
    "    "
   ]
  },
  {
   "cell_type": "code",
   "execution_count": 131,
   "metadata": {},
   "outputs": [],
   "source": [
    "import matplotlib.pyplot as plt\n"
   ]
  },
  {
   "cell_type": "code",
   "execution_count": 132,
   "metadata": {},
   "outputs": [
    {
     "data": {
      "image/png": "[encoded data removed]",
      "text/plain": [
       "<Figure size 432x288 with 1 Axes>"
      ]
     },
     "metadata": {
      "needs_background": "light"
     },
     "output_type": "display_data"
    }
   ],
   "source": [
    "plt.plot(x, y)\n",
    "plt.show()"
   ]
  },
  {
   "cell_type": "code",
   "execution_count": 145,
   "metadata": {},
   "outputs": [
    {
     "name": "stdout",
     "output_type": "stream",
     "text": [
      "(965365565, 1517849297)\n"
     ]
    }
   ],
   "source": [
    "#break RSA\n",
    "def break_RSA(pu):\n",
    "    e,n=pu\n",
    "    #get p,q\n",
    "    for i in range(2,n//2):\n",
    "        if n%i==0:\n",
    "            p=i\n",
    "            q=n//i\n",
    "            break\n",
    "    \n",
    "\n",
    "\n",
    "    return p,q\n",
    "\n",
    "(pu,_)=RSA(32)\n",
    "print(pu)\n",
    "p,q=break_RSA(pu)\n",
    "assert(p*q==pu[1])"
   ]
  },
  {
   "cell_type": "code",
   "execution_count": 157,
   "metadata": {},
   "outputs": [
    {
     "name": "stdout",
     "output_type": "stream",
     "text": [
      "8 1.1920928955078125e-05\n",
      "9 1.2636184692382812e-05\n",
      "10 1.1682510375976562e-05\n",
      "11 1.52587890625e-05\n",
      "12 1.6927719116210938e-05\n",
      "13 1.6689300537109375e-05\n",
      "14 4.982948303222656e-05\n",
      "15 5.030632019042969e-05\n",
      "16 5.435943603515625e-05\n",
      "17 5.698204040527344e-05\n",
      "18 8.7738037109375e-05\n",
      "19 5.5789947509765625e-05\n",
      "20 0.00020194053649902344\n",
      "21 0.00011801719665527344\n",
      "22 0.00028586387634277344\n",
      "23 0.000274658203125\n",
      "24 0.0006403923034667969\n",
      "25 0.0006568431854248047\n",
      "26 0.0016717910766601562\n",
      "27 0.0014438629150390625\n",
      "28 0.003482818603515625\n",
      "29 0.0032579898834228516\n",
      "30 0.00396728515625\n",
      "31 0.006511688232421875\n",
      "32 0.02897167205810547\n",
      "33 0.02085113525390625\n",
      "34 0.04387521743774414\n",
      "35 0.039266109466552734\n",
      "36 0.07845735549926758\n",
      "37 0.08047604560852051\n",
      "38 0.12451338768005371\n",
      "39 0.1885981559753418\n",
      "40 0.33696722984313965\n",
      "41 0.3465845584869385\n",
      "42 0.6033718585968018\n",
      "43 0.7876477241516113\n",
      "44 1.2721836566925049\n",
      "45 1.4328696727752686\n",
      "46 1.9793024063110352\n",
      "47 1.723465919494629\n",
      "48 3.803248643875122\n",
      "49 4.972323894500732\n"
     ]
    }
   ],
   "source": [
    "\n",
    "keys_to_break=[]\n",
    "\n",
    "lower_range=8\n",
    "upper_range=50\n",
    "for i in range(lower_range,upper_range):\n",
    "    (e,n),(d,n)=RSA(int(i))\n",
    "    keys_to_break.append((e,n))\n",
    "\n",
    "counter=0\n",
    "time_array=[]\n",
    "for i in range(lower_range,upper_range):\n",
    "    time_taken=0\n",
    "    #for k in range(1,2):\n",
    "    st=time.time()\n",
    "    p,q=break_RSA(keys_to_break[counter])\n",
    "    et=time.time()\n",
    "    time_taken=(et-st)\n",
    "    time_array.append(time_taken)\n",
    "    print(i,time_taken)\n",
    "        \n",
    "    counter+=1\n",
    "\n",
    "\n",
    "    \n",
    " "
   ]
  },
  {
   "cell_type": "code",
   "execution_count": 158,
   "metadata": {},
   "outputs": [
    {
     "name": "stdout",
     "output_type": "stream",
     "text": [
      "(42,)\n",
      "(42,)\n"
     ]
    },
    {
     "data": {
      "image/png": "[encoded data removed]",
      "text/plain": [
       "<Figure size 432x288 with 1 Axes>"
      ]
     },
     "metadata": {
      "needs_background": "light"
     },
     "output_type": "display_data"
    }
   ],
   "source": [
    "x_break=np.linspace(lower_range,upper_range,upper_range-lower_range)\n",
    "print(x_break.shape)\n",
    "print(np.array(time_array).shape)\n",
    "\n",
    "plt.plot(x_break,time_array)\n",
    "plt.show()"
   ]
  },
  {
   "cell_type": "code",
   "execution_count": null,
   "metadata": {},
   "outputs": [],
   "source": []
  }
 ],
 "metadata": {
  "interpreter": {
   "hash": "916dbcbb3f70747c44a77c7bcd40155683ae19c65e1c03b4aa3499c5328201f1"
  },
  "kernelspec": {
   "display_name": "Python 3.8.10 64-bit",
   "language": "python",
   "name": "python3"
  },
  "language_info": {
   "codemirror_mode": {
    "name": "ipython",
    "version": 3
   },
   "file_extension": ".py",
   "mimetype": "text/x-python",
   "name": "python",
   "nbconvert_exporter": "python",
   "pygments_lexer": "ipython3",
   "version": "3.8.10"
  },
  "orig_nbformat": 4
 },
 "nbformat": 4,
 "nbformat_minor": 2
}
