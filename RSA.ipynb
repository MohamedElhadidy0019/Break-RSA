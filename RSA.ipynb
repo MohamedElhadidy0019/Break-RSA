{
 "cells": [
  {
   "cell_type": "code",
   "execution_count": 2,
   "metadata": {},
   "outputs": [
    {
     "data": {
      "text/plain": [
       "134217728"
      ]
     },
     "execution_count": 2,
     "metadata": {},
     "output_type": "execute_result"
    }
   ],
   "source": [
    "import random\n",
    "import numpy as np\n",
    "import sympy as sp\n",
    "import math\n",
    "import matplotlib.pyplot as plt\n",
    "from Crypto.Util import number\n",
    "import time\n",
    "import sys, threading\n",
    "from math import sqrt,floor\n",
    "\n",
    "sys.setrecursionlimit(10**7)\n",
    "threading.stack_size(2**27)\n",
    "\n",
    "\n"
   ]
  },
  {
   "cell_type": "markdown",
   "metadata": {},
   "source": [
    "# Utility functions for RSA"
   ]
  },
  {
   "cell_type": "code",
   "execution_count": 3,
   "metadata": {},
   "outputs": [],
   "source": [
    "\n",
    "# is prime\n",
    "def is_prime(n):\n",
    "    if n == 2:\n",
    "        return True\n",
    "    if n % 2 == 0 or n <= 1:\n",
    "        return False\n",
    "    for i in range(3, int(n**0.5)+1, 2):\n",
    "        if n % i == 0:\n",
    "            return False\n",
    "    return True\n",
    "\n",
    "\n",
    "def ConvertToInt(message_str):\n",
    "  res = 0\n",
    "  for i in range(len(message_str)):\n",
    "    res = res * 256 + ord(message_str[i])\n",
    "  return res\n",
    "\n",
    "def ConvertToStr(n):\n",
    "    res = \"\"\n",
    "    while n > 0:\n",
    "        res += chr(n % 256)\n",
    "        n //= 256\n",
    "    return res[::-1]\n",
    "\n",
    "def GCD(a, b):\n",
    "  if b == 0:\n",
    "    return a\n",
    "  return GCD(b, a % b)\n",
    "\n",
    "def ExtendedEuclid(a, b):\n",
    "    if b == 0:\n",
    "        return (1, 0)\n",
    "    (x, y) = ExtendedEuclid(b, a % b)\n",
    "    k = a // b\n",
    "    return (y, x - k * y)\n",
    "\n",
    "# this is an R2L recursive implementation that works for large integers\n",
    "def PowMod(a, n, mod): \n",
    "    if n == 0:\n",
    "        return 1 % mod\n",
    "    elif n == 1:\n",
    "        return a % mod\n",
    "    else:\n",
    "        b = PowMod(a, n // 2, mod)\n",
    "        b = b * b % mod\n",
    "        if n % 2 == 0:\n",
    "          return b\n",
    "        else:\n",
    "          return b * a % mod\n",
    "\n",
    "def InvertModulo(a, n):\n",
    "    (b, x) = ExtendedEuclid(a, n)\n",
    "    if b < 0:\n",
    "        b = (b % n + n) % n # we don't want -ve integers\n",
    "    return b\n",
    "\n"
   ]
  },
  {
   "cell_type": "markdown",
   "metadata": {},
   "source": [
    "# REQ1) RSA functions"
   ]
  },
  {
   "cell_type": "code",
   "execution_count": 4,
   "metadata": {},
   "outputs": [],
   "source": [
    "\n",
    "def RSA(n_bits):\n",
    "    p = number.getPrime(n_bits // 2)\n",
    "    q = number.getPrime(n_bits // 2)\n",
    "    while p == q:\n",
    "        q = number.getPrime(n_bits // 2)\n",
    "    n=p*q\n",
    "    phi=(p-1)*(q-1)\n",
    "    e=random.randint(2,phi)\n",
    "    while sp.gcd(e,phi) != 1:\n",
    "        e=random.randint(2,phi) \n",
    "\n",
    "    d=sp.mod_inverse(e,phi)\n",
    "    pu=e,n\n",
    "    pr=d,n\n",
    "    return pu,pr\n",
    "\n",
    "def Encrypt(message,pu):\n",
    "    e,n=pu\n",
    "    return PowMod(message,e,n)\n",
    "\n",
    "def Decrypt(cipher,pr):\n",
    "    d,n=pr\n",
    "    return PowMod(cipher,d,n)\n",
    "    "
   ]
  },
  {
   "cell_type": "markdown",
   "metadata": {},
   "source": [
    "# REQ3) RSA     encryption time - nbits"
   ]
  },
  {
   "cell_type": "code",
   "execution_count": 5,
   "metadata": {},
   "outputs": [],
   "source": [
    "#key generation loop for req3\n",
    "\n",
    "message=\"A\"\n",
    "message_int=ConvertToInt(message)\n",
    "\n",
    "#make x linspace of range 1 to 1024\n",
    "low=8\n",
    "end=512\n",
    "x=np.linspace(low,end,end-low+1)\n",
    "#print(x[:200])\n",
    "y=[]\n",
    "\n",
    "keys=[]\n",
    "for i in x:\n",
    "    (e,n),(d,n)=RSA(int(i))\n",
    "    keys.append((e,n))\n",
    "    \n",
    "   \n"
   ]
  },
  {
   "cell_type": "code",
   "execution_count": 6,
   "metadata": {},
   "outputs": [],
   "source": [
    "counter=0\n",
    "\n",
    "for i in x:\n",
    "    elapsed_time=0\n",
    "    (e,n)=keys[counter]\n",
    "    for j in range(100):\n",
    "        \n",
    "        st=time.time()\n",
    "        cipher=Encrypt(message_int,(e,n))\n",
    "        et=time.time()\n",
    "        elapsed_time+=(et-st)\n",
    "    y.append(elapsed_time/100)\n",
    "    counter+=1\n",
    "    "
   ]
  },
  {
   "cell_type": "code",
   "execution_count": 7,
   "metadata": {},
   "outputs": [
    {
     "data": {
      "image/png": "[encoded data removed]",
      "text/plain": [
       "<Figure size 432x288 with 1 Axes>"
      ]
     },
     "metadata": {
      "needs_background": "light"
     },
     "output_type": "display_data"
    }
   ],
   "source": [
    "plt.plot(x, y)\n",
    "plt.show()\n"
   ]
  },
  {
   "cell_type": "markdown",
   "metadata": {},
   "source": [
    "# Req4"
   ]
  },
  {
   "cell_type": "code",
   "execution_count": 8,
   "metadata": {},
   "outputs": [
    {
     "name": "stdout",
     "output_type": "stream",
     "text": [
      "(620255519, 2589414319)\n"
     ]
    }
   ],
   "source": [
    "#break RSA  for req 4\n",
    "def break_RSA(pu):\n",
    "    e,n=pu\n",
    "    #get p,q\n",
    "    for i in range(2,n//2):\n",
    "        if n%i==0:\n",
    "            p=i\n",
    "            q=n//i\n",
    "            break\n",
    "    \n",
    "\n",
    "\n",
    "    return p,q\n",
    "\n",
    "(pu,_)=RSA(32)\n",
    "print(pu)\n",
    "p,q=break_RSA(pu)\n",
    "assert(p*q==pu[1])"
   ]
  },
  {
   "cell_type": "code",
   "execution_count": 9,
   "metadata": {},
   "outputs": [
    {
     "name": "stdout",
     "output_type": "stream",
     "text": [
      "8 0.0\n",
      "9 0.0\n",
      "10 0.0\n",
      "11 0.0\n",
      "12 0.0\n",
      "13 0.0\n",
      "14 0.0\n",
      "15 0.0\n",
      "16 0.0\n",
      "17 0.0\n",
      "18 0.0\n",
      "19 0.0\n",
      "20 0.0\n",
      "21 0.0\n",
      "22 0.0009992122650146484\n",
      "23 0.0\n",
      "24 0.0\n",
      "25 0.0\n",
      "26 0.0\n",
      "27 0.0\n",
      "28 0.0009996891021728516\n",
      "29 0.0010004043579101562\n",
      "30 0.00099945068359375\n",
      "31 0.0010018348693847656\n",
      "32 0.003998279571533203\n",
      "33 0.002998828887939453\n",
      "34 0.007999897003173828\n",
      "35 0.008000850677490234\n",
      "36 0.014998912811279297\n",
      "37 0.014999866485595703\n",
      "38 0.030002355575561523\n",
      "39 0.028015613555908203\n",
      "40 0.06899785995483398\n",
      "41 0.06200838088989258\n",
      "42 0.14702796936035156\n",
      "43 0.17100048065185547\n",
      "44 0.3660738468170166\n",
      "45 0.30408573150634766\n",
      "46 0.5010507106781006\n",
      "47 0.585176944732666\n",
      "48 1.5316894054412842\n",
      "49 1.3299951553344727\n"
     ]
    }
   ],
   "source": [
    "#loop to generate keys\n",
    "keys_to_break=[]\n",
    "\n",
    "lower_range=8\n",
    "upper_range=50\n",
    "for i in range(lower_range,upper_range):\n",
    "    (e,n),(d,n)=RSA(int(i))\n",
    "    keys_to_break.append((e,n))\n",
    "\n",
    "counter=0\n",
    "time_array=[]\n",
    "for i in range(lower_range,upper_range):\n",
    "    time_taken=0\n",
    "    #for k in range(1,2):\n",
    "    st=time.time()\n",
    "    p,q=break_RSA(keys_to_break[counter])\n",
    "    et=time.time()\n",
    "    time_taken=(et-st)\n",
    "    time_array.append(time_taken)\n",
    "    print(i,time_taken)\n",
    "        \n",
    "    counter+=1\n",
    "\n",
    "\n",
    "    \n",
    " "
   ]
  },
  {
   "cell_type": "markdown",
   "metadata": {},
   "source": [
    "# req4 graph "
   ]
  },
  {
   "cell_type": "code",
   "execution_count": 10,
   "metadata": {},
   "outputs": [
    {
     "name": "stdout",
     "output_type": "stream",
     "text": [
      "(42,)\n",
      "(42,)\n"
     ]
    },
    {
     "data": {
      "image/png": "[encoded data removed]",
      "text/plain": [
       "<Figure size 432x288 with 1 Axes>"
      ]
     },
     "metadata": {
      "needs_background": "light"
     },
     "output_type": "display_data"
    }
   ],
   "source": [
    "\n",
    "x_break=np.linspace(lower_range,upper_range,upper_range-lower_range)\n",
    "print(x_break.shape)\n",
    "print(np.array(time_array).shape)\n",
    "\n",
    "plt.plot(x_break,time_array)\n",
    "plt.show()"
   ]
  },
  {
   "cell_type": "code",
   "execution_count": null,
   "metadata": {},
   "outputs": [],
   "source": []
  }
 ],
 "metadata": {
  "interpreter": {
   "hash": "79fdc8352940022464368746d67d12dbc9a3740708d0e5e01c2eafb24b507835"
  },
  "kernelspec": {
   "display_name": "Python 3.8.8 ('base')",
   "language": "python",
   "name": "python3"
  },
  "language_info": {
   "codemirror_mode": {
    "name": "ipython",
    "version": 3
   },
   "file_extension": ".py",
   "mimetype": "text/x-python",
   "name": "python",
   "nbconvert_exporter": "python",
   "pygments_lexer": "ipython3",
   "version": "3.8.10"
  },
  "orig_nbformat": 4
 },
 "nbformat": 4,
 "nbformat_minor": 2
}
