{
 "cells": [
  {
   "cell_type": "code",
   "execution_count": 4,
   "metadata": {},
   "outputs": [
    {
     "data": {
      "text/plain": [
       "134217728"
      ]
     },
     "execution_count": 4,
     "metadata": {},
     "output_type": "execute_result"
    }
   ],
   "source": [
    "import random\n",
    "import numpy as np\n",
    "import sympy as sp\n",
    "import math\n",
    "import matplotlib.pyplot as plt\n",
    "from Crypto.Util import number\n",
    "import time\n",
    "import sys, threading\n",
    "from math import sqrt,floor\n",
    "\n",
    "sys.setrecursionlimit(10**7)\n",
    "threading.stack_size(2**27)\n",
    "\n",
    "\n"
   ]
  },
  {
   "cell_type": "markdown",
   "metadata": {},
   "source": [
    "# Utility functions for RSA"
   ]
  },
  {
   "cell_type": "code",
   "execution_count": 5,
   "metadata": {},
   "outputs": [],
   "source": [
    "def ConvertToInt(message_str):\n",
    "  res = 0\n",
    "  for i in range(len(message_str)):\n",
    "    res = res * 256 + ord(message_str[i])\n",
    "  return res\n",
    "\n",
    "def ConvertToStr(n):\n",
    "    res = \"\"\n",
    "    while n > 0:\n",
    "        res += chr(n % 256)\n",
    "        n //= 256\n",
    "    return res[::-1]\n",
    "\n",
    "# this is an R2L recursive implementation that works for large integers\n",
    "def PowMod(a, n, mod): \n",
    "    if n == 0:\n",
    "        return 1 % mod\n",
    "    elif n == 1:\n",
    "        return a % mod\n",
    "    else:\n",
    "        b = PowMod(a, n // 2, mod)\n",
    "        b = b * b % mod\n",
    "        if n % 2 == 0:\n",
    "          return b\n",
    "        else:\n",
    "          return b * a % mod\n",
    "\n",
    "def IsPrime(n):\n",
    "  if n == 2 or n == 3: return True\n",
    "  if n < 2 or n%2 == 0: return False\n",
    "  if n < 9: return True\n",
    "  if n%3 == 0: return False\n",
    "  r = int(n**0.5)\n",
    "  # since all primes > 3 are of the form 6n ± 1\n",
    "  # start with f=5 (which is prime)\n",
    "  # and test f, f+2 for being prime\n",
    "  # then loop by 6. \n",
    "  f = 5\n",
    "  while f <= r:\n",
    "    #print('\\t',f)\n",
    "    if n % f == 0: return False\n",
    "    if n % (f+2) == 0: return False\n",
    "    f += 6\n",
    "  return True "
   ]
  },
  {
   "cell_type": "markdown",
   "metadata": {},
   "source": [
    "# REQ1) RSA functions"
   ]
  },
  {
   "cell_type": "code",
   "execution_count": 6,
   "metadata": {},
   "outputs": [
    {
     "name": "stdout",
     "output_type": "stream",
     "text": [
      "a\n"
     ]
    }
   ],
   "source": [
    "\n",
    "def RSA(n_bits):\n",
    "    p = number.getPrime(n_bits // 2)\n",
    "    q = number.getPrime(n_bits // 2)\n",
    "    while p == q:\n",
    "        q = number.getPrime(n_bits // 2)\n",
    "    n=p*q\n",
    "    phi=(p-1)*(q-1)\n",
    "    e=random.randint(2,phi)\n",
    "    while sp.gcd(e,phi) != 1:\n",
    "        e=random.randint(2,phi) \n",
    "\n",
    "    d=sp.mod_inverse(e,phi)\n",
    "    pu=e,n\n",
    "    pr=d,n\n",
    "    return pu,pr\n",
    "\n",
    "\n",
    "\n",
    "def RSA_w_input(p,q,e):\n",
    "    phi=(p-1)*(q-1)\n",
    "    n_bits=32\n",
    "    if(not(IsPrime(p)) or not(IsPrime(q)) or p==q or e<=1 or e>=phi or sp.gcd(e,phi)!=1):\n",
    "        print(\"kaaaaaaaak\")\n",
    "        p = number.getPrime(n_bits // 2)\n",
    "        q = number.getPrime(n_bits // 2)\n",
    "        while p == q:\n",
    "            q = number.getPrime(n_bits // 2)\n",
    "        phi=(p-1)*(q-1)\n",
    "    n=p*q\n",
    "    e=random.randint(2,phi)\n",
    "    while sp.gcd(e,phi) != 1:\n",
    "        e=random.randint(2,phi) \n",
    "\n",
    "    d=sp.mod_inverse(e,phi)\n",
    "    pu=e,n\n",
    "    pr=d,n\n",
    "    return pu,pr\n",
    "\n",
    "\n",
    "\n",
    "def Encrypt(message,pu):\n",
    "    e,n=pu\n",
    "    return PowMod(message,e,n)\n",
    "\n",
    "def Decrypt(cipher,pr):\n",
    "    d,n=pr\n",
    "    return PowMod(cipher,d,n)\n",
    "\n",
    "mess=\"a\"\n",
    "n_bits=32\n",
    "p = number.getPrime(n_bits // 2)\n",
    "q = number.getPrime(n_bits // 2)\n",
    "while p == q:\n",
    "    q = number.getPrime(n_bits // 2)\n",
    "n=p*q\n",
    "phi=(p-1)*(q-1)\n",
    "e=random.randint(2,phi)\n",
    "while sp.gcd(e,phi) != 1:\n",
    "    e=random.randint(2,phi) \n",
    "pu,pr=RSA_w_input(p,q,e)\n",
    "cipher=Encrypt(ConvertToInt(mess),pu)\n",
    "decipher=Decrypt(cipher,pr)\n",
    "print(ConvertToStr(decipher))\n",
    "    "
   ]
  },
  {
   "cell_type": "markdown",
   "metadata": {},
   "source": [
    "# REQ3) RSA     encryption time - nbits"
   ]
  },
  {
   "cell_type": "code",
   "execution_count": 20,
   "metadata": {},
   "outputs": [],
   "source": [
    "#key generation loop for req3\n",
    "\n",
    "message=\"A\"\n",
    "message_int=ConvertToInt(message)\n",
    "\n",
    "#make x linspace of range 1 to 1024\n",
    "low=8\n",
    "end=512\n",
    "x=np.linspace(low,end,end-low+1)\n",
    "#print(x[:200])\n",
    "y=[]\n",
    "\n",
    "keys=[]\n",
    "for i in x:\n",
    "    (e,n),(d,n)=RSA(int(i))\n",
    "    keys.append((e,n))\n",
    "    \n",
    "   \n"
   ]
  },
  {
   "cell_type": "code",
   "execution_count": 21,
   "metadata": {},
   "outputs": [],
   "source": [
    "counter=0\n",
    "\n",
    "for i in x:\n",
    "    elapsed_time=0\n",
    "    (e,n)=keys[counter]\n",
    "    for j in range(100):\n",
    "        \n",
    "        st=time.time()\n",
    "        cipher=Encrypt(message_int,(e,n))\n",
    "        et=time.time()\n",
    "        elapsed_time+=(et-st)\n",
    "    y.append(elapsed_time/100)\n",
    "    counter+=1\n",
    "    "
   ]
  },
  {
   "cell_type": "code",
   "execution_count": 22,
   "metadata": {},
   "outputs": [
    {
     "data": {
      "image/png": "[encoded data removed]",
      "text/plain": [
       "<Figure size 432x288 with 1 Axes>"
      ]
     },
     "metadata": {
      "needs_background": "light"
     },
     "output_type": "display_data"
    }
   ],
   "source": [
    "plt.plot(x, y)\n",
    "plt.xlabel('n_bits')\n",
    "plt.ylabel('time')\n",
    "plt.show()\n"
   ]
  },
  {
   "cell_type": "markdown",
   "metadata": {},
   "source": [
    "# Req4"
   ]
  },
  {
   "cell_type": "code",
   "execution_count": 23,
   "metadata": {},
   "outputs": [
    {
     "name": "stdout",
     "output_type": "stream",
     "text": [
      "(2190869017, 2647450067)\n"
     ]
    }
   ],
   "source": [
    "#break RSA  for req 4\n",
    "def break_RSA(pu):\n",
    "    e,n=pu\n",
    "    #get p,q\n",
    "    for i in range(2,n//2):\n",
    "        if n%i==0:\n",
    "            p=i\n",
    "            q=n//i\n",
    "            break\n",
    "    \n",
    "\n",
    "\n",
    "    return p,q\n",
    "\n",
    "(pu,_)=RSA(32)\n",
    "print(pu)\n",
    "p,q=break_RSA(pu)\n",
    "assert(p*q==pu[1])"
   ]
  },
  {
   "cell_type": "code",
   "execution_count": 24,
   "metadata": {},
   "outputs": [
    {
     "name": "stdout",
     "output_type": "stream",
     "text": [
      "8 2.6226043701171875e-06\n",
      "9 3.5762786865234375e-06\n",
      "10 2.384185791015625e-06\n",
      "11 2.86102294921875e-06\n",
      "12 1.6450881958007812e-05\n",
      "13 3.5762786865234375e-06\n",
      "14 4.76837158203125e-06\n",
      "15 6.198883056640625e-06\n",
      "16 9.298324584960938e-06\n",
      "17 9.775161743164062e-06\n",
      "18 1.3828277587890625e-05\n",
      "19 5.030632019042969e-05\n",
      "20 4.363059997558594e-05\n",
      "21 3.552436828613281e-05\n",
      "22 6.365776062011719e-05\n",
      "23 5.7697296142578125e-05\n",
      "24 0.00015354156494140625\n",
      "25 0.00022077560424804688\n",
      "26 0.0002987384796142578\n",
      "27 0.00035381317138671875\n",
      "28 0.0008404254913330078\n",
      "29 0.0005984306335449219\n",
      "30 0.0009870529174804688\n",
      "31 0.0016040802001953125\n",
      "32 0.00504755973815918\n",
      "33 0.00406336784362793\n",
      "34 0.010102272033691406\n",
      "35 0.008409976959228516\n",
      "36 0.015436887741088867\n",
      "37 0.017702579498291016\n",
      "38 0.02498483657836914\n",
      "39 0.024625301361083984\n",
      "40 0.0645747184753418\n",
      "41 0.06059670448303223\n",
      "42 0.13612699508666992\n",
      "43 0.12749838829040527\n",
      "44 0.3558812141418457\n",
      "45 0.22503185272216797\n",
      "46 0.4794588088989258\n",
      "47 0.7043468952178955\n",
      "48 0.9345428943634033\n",
      "49 1.0106217861175537\n"
     ]
    }
   ],
   "source": [
    "#loop to generate keys\n",
    "keys_to_break=[]\n",
    "\n",
    "lower_range=8\n",
    "upper_range=50\n",
    "for i in range(lower_range,upper_range):\n",
    "    (e,n),(d,n)=RSA(int(i))\n",
    "    keys_to_break.append((e,n))\n",
    "\n",
    "counter=0\n",
    "time_array=[]\n",
    "for i in range(lower_range,upper_range):\n",
    "    time_taken=0\n",
    "    #for k in range(1,2):\n",
    "    st=time.time()\n",
    "    p,q=break_RSA(keys_to_break[counter])\n",
    "    et=time.time()\n",
    "    time_taken=(et-st)\n",
    "    time_array.append(time_taken)\n",
    "    print(i,time_taken)\n",
    "        \n",
    "    counter+=1\n",
    "\n",
    "\n",
    "    \n",
    " "
   ]
  },
  {
   "cell_type": "markdown",
   "metadata": {},
   "source": [
    "# req4 graph "
   ]
  },
  {
   "cell_type": "code",
   "execution_count": 25,
   "metadata": {},
   "outputs": [
    {
     "name": "stdout",
     "output_type": "stream",
     "text": [
      "(42,)\n",
      "(42,)\n"
     ]
    },
    {
     "data": {
      "image/png": "[encoded data removed]",
      "text/plain": [
       "<Figure size 432x288 with 1 Axes>"
      ]
     },
     "metadata": {
      "needs_background": "light"
     },
     "output_type": "display_data"
    }
   ],
   "source": [
    "\n",
    "x_break=np.linspace(lower_range,upper_range,upper_range-lower_range)\n",
    "print(x_break.shape)\n",
    "print(np.array(time_array).shape)\n",
    "#label\n",
    "\n",
    "plt.plot(x_break,time_array)\n",
    "plt.xlabel('n_bits')\n",
    "plt.ylabel('time')\n",
    "plt.show()"
   ]
  },
  {
   "cell_type": "markdown",
   "metadata": {},
   "source": [
    "# Req 5"
   ]
  },
  {
   "cell_type": "markdown",
   "metadata": {},
   "source": [
    "# Chosen Cipertext attack \n",
    "We have Alice who sends a message \"M\" to Bob encryoted with his public key (e,n). The encrypted message is C = M^e mod N\n",
    "\n",
    "Eve intercepts C but can not decrypt it. So, Eve multiply C by a random number r raised to the power e and all modulo N. \n",
    "C_eve = C * r^e mod N\n",
    "\n",
    "Then he sends it to Bob who decrypts it to C_eve^d mod N\n",
    "\n",
    "Eve can now recover the original message M by multiplying the result from Bob by r^-1 mod N\n",
    "\n",
    "(r ^ -1 )*(C_eve ^ d) Ξ (r ^-1 ) * ((C * (r^e))^d) Ξ (r ^-1) * (C^d) * (r^ed) Ξ (r ^ -1 ) * M * r Ξ M mod N \n"
   ]
  },
  {
   "cell_type": "code",
   "execution_count": 68,
   "metadata": {},
   "outputs": [
    {
     "name": "stdout",
     "output_type": "stream",
     "text": [
      "Cipher is 2105311483801309281954248444440412920697507045138368962176489223992048853929238354266164241032529673473069416301894867242000042016071570167557168370223797520600588134200797458098186401302027587\n",
      "###########################################\n",
      "Eve: The message = Hello I am Alice\n",
      "###########################################\n"
     ]
    }
   ],
   "source": [
    "# First generate the RSA at Bob's side\n",
    "pu,pr = RSA(640)\n",
    "\n",
    "e,n = pu\n",
    "\n",
    "# Alice wants to send A message\n",
    "\n",
    "message = \"Hello I am Alice\"\n",
    "num = ConvertToInt(message)\n",
    "\n",
    "cipher = Encrypt(num, pu )\n",
    "print(\"Cipher is \" + str(cipher))\n",
    "\n",
    "# Eve can see the encrypted ciphrt\n",
    "# Eve selects a random number\n",
    "r = 250\n",
    "\n",
    "# Eve encrypts r with the public key \n",
    "r_cipher = Encrypt(r, pu)\n",
    "\n",
    "# Eve multiplies it by cipher mod N\n",
    "cipher_2 = (r_cipher * cipher) % n\n",
    "\n",
    "# Eve sends cipher_2 to Bob who decrypts it and send her what do you mean by this \"result\"\n",
    "\n",
    "result = Decrypt(cipher_2, pr)\n",
    "\n",
    "# Then Eve multiplies r_inverse by cipher_2 to get the message\n",
    "recovered_num = ( sp.mod_inverse(r,n) * result) % n\n",
    "\n",
    "recovered_messa = ConvertToStr(recovered_num)\n",
    "\n",
    "print(\"###########################################\")\n",
    "print(\"Eve: The message = \" + recovered_messa)\n",
    "print(\"###########################################\")\n",
    "\n",
    "    "
   ]
  },
  {
   "cell_type": "code",
   "execution_count": null,
   "metadata": {},
   "outputs": [],
   "source": []
  }
 ],
 "metadata": {
  "interpreter": {
   "hash": "79fdc8352940022464368746d67d12dbc9a3740708d0e5e01c2eafb24b507835"
  },
  "kernelspec": {
   "display_name": "Python 3.8.8 ('base')",
   "language": "python",
   "name": "python3"
  },
  "language_info": {
   "codemirror_mode": {
    "name": "ipython",
    "version": 3
   },
   "file_extension": ".py",
   "mimetype": "text/x-python",
   "name": "python",
   "nbconvert_exporter": "python",
   "pygments_lexer": "ipython3",
   "version": "3.8.10"
  },
  "orig_nbformat": 4
 },
 "nbformat": 4,
 "nbformat_minor": 2
}
